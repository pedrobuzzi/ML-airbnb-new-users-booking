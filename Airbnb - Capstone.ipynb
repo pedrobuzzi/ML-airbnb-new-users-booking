{
 "cells": [
  {
   "cell_type": "code",
   "execution_count": 50,
   "metadata": {},
   "outputs": [],
   "source": [
    "import zipfile\n",
    "import numpy as np\n",
    "import pandas as pd\n",
    "import seaborn as sns2\n",
    "import matplotlib.pyplot as plt\n",
    "from sklearn.model_selection import train_test_split\n",
    "from sklearn import grid_search\n",
    "import xgboost as xgb\n",
    "from xgboost.sklearn import XGBClassifier"
   ]
  },
  {
   "cell_type": "code",
   "execution_count": 2,
   "metadata": {
    "collapsed": true
   },
   "outputs": [],
   "source": [
    "zf = zipfile.ZipFile('./data/train_users_2.csv.zip')\n",
    "df_train = pd.read_csv(zf.open('train_users_2.csv'))\n",
    "\n",
    "zf = zipfile.ZipFile('./data/test_users.csv.zip')\n",
    "df_test = pd.read_csv(zf.open('test_users.csv'))"
   ]
  },
  {
   "cell_type": "code",
   "execution_count": 3,
   "metadata": {
    "collapsed": true
   },
   "outputs": [],
   "source": [
    "zf = zipfile.ZipFile('./data/sessions.csv.zip')\n",
    "df_session = pd.read_csv(zf.open('sessions.csv'))"
   ]
  },
  {
   "cell_type": "code",
   "execution_count": 4,
   "metadata": {
    "collapsed": true
   },
   "outputs": [],
   "source": [
    "zf = zipfile.ZipFile('./data/age_gender_bkts.csv.zip')\n",
    "df_age_gender = pd.read_csv(zf.open('age_gender_bkts.csv'))"
   ]
  },
  {
   "cell_type": "code",
   "execution_count": 5,
   "metadata": {
    "collapsed": true
   },
   "outputs": [],
   "source": [
    "# zf = zipfile.ZipFile('./data/countries.csv.zip')\n",
    "# df_countries = pd11.read_csv(zf.open('countries.csv'))"
   ]
  },
  {
   "cell_type": "markdown",
   "metadata": {},
   "source": [
    "## Exploração dos dados\n"
   ]
  },
  {
   "cell_type": "code",
   "execution_count": null,
   "metadata": {
    "collapsed": true
   },
   "outputs": [],
   "source": []
  },
  {
   "cell_type": "markdown",
   "metadata": {},
   "source": [
    "\n",
    "plt.figure(figsize=(20,8))\n",
    "sns.barplot(x='mean_age', y='population_in_thousands', hue='gender', data=df_age_gender, ci=None)"
   ]
  },
  {
   "cell_type": "code",
   "execution_count": null,
   "metadata": {
    "collapsed": true
   },
   "outputs": [],
   "source": []
  },
  {
   "cell_type": "markdown",
   "metadata": {
    "collapsed": true
   },
   "source": [
    "## Preparação dos dados"
   ]
  },
  {
   "cell_type": "markdown",
   "metadata": {},
   "source": [
    "##### Juntar dados de treinamento e teste."
   ]
  },
  {
   "cell_type": "code",
   "execution_count": 6,
   "metadata": {
    "collapsed": true
   },
   "outputs": [],
   "source": [
    "# df_train = df_train.drop(['country_destination'], axis=1)"
   ]
  },
  {
   "cell_type": "code",
   "execution_count": 59,
   "metadata": {
    "collapsed": true
   },
   "outputs": [],
   "source": [
    "df_all = pd.concat((df_train, df_test), axis=0, ignore_index=True)"
   ]
  },
  {
   "cell_type": "code",
   "execution_count": null,
   "metadata": {
    "collapsed": true
   },
   "outputs": [],
   "source": []
  },
  {
   "cell_type": "code",
   "execution_count": null,
   "metadata": {
    "collapsed": true
   },
   "outputs": [],
   "source": []
  },
  {
   "cell_type": "code",
   "execution_count": 60,
   "metadata": {},
   "outputs": [
    {
     "data": {
      "text/plain": [
       "Index([u'affiliate_channel', u'affiliate_provider', u'age',\n",
       "       u'country_destination', u'date_account_created', u'date_first_booking',\n",
       "       u'first_affiliate_tracked', u'first_browser', u'first_device_type',\n",
       "       u'gender', u'id', u'language', u'signup_app', u'signup_flow',\n",
       "       u'signup_method', u'timestamp_first_active'],\n",
       "      dtype='object')"
      ]
     },
     "execution_count": 60,
     "metadata": {},
     "output_type": "execute_result"
    }
   ],
   "source": [
    "df_all.columns"
   ]
  },
  {
   "cell_type": "code",
   "execution_count": null,
   "metadata": {
    "collapsed": true
   },
   "outputs": [],
   "source": [
    "\n"
   ]
  },
  {
   "cell_type": "code",
   "execution_count": 61,
   "metadata": {},
   "outputs": [
    {
     "data": {
      "text/plain": [
       "array(['en', 'fr', 'de', 'es', 'it', 'pt', 'zh', 'ko', 'ja', 'ru', 'pl',\n",
       "       'el', 'sv', 'nl', 'hu', 'da', 'id', 'fi', 'no', 'tr', 'th', 'cs',\n",
       "       'hr', 'ca', 'is', '-unknown-'], dtype=object)"
      ]
     },
     "execution_count": 61,
     "metadata": {},
     "output_type": "execute_result"
    }
   ],
   "source": [
    "# Idioma faltando\n",
    "df_all.language.unique()"
   ]
  },
  {
   "cell_type": "code",
   "execution_count": 62,
   "metadata": {},
   "outputs": [
    {
     "data": {
      "text/plain": [
       "array(['-unknown-', 'MALE', 'FEMALE', 'OTHER'], dtype=object)"
      ]
     },
     "execution_count": 62,
     "metadata": {},
     "output_type": "execute_result"
    }
   ],
   "source": [
    "# Gênero faltando\n",
    "df_all.gender.unique()"
   ]
  },
  {
   "cell_type": "code",
   "execution_count": null,
   "metadata": {
    "collapsed": true
   },
   "outputs": [],
   "source": [
    "df_all[df_all.gender == 'MISSING_GENDER'].shape[0]"
   ]
  },
  {
   "cell_type": "markdown",
   "metadata": {},
   "source": [
    "### Tratamento de Idiomas"
   ]
  },
  {
   "cell_type": "markdown",
   "metadata": {},
   "source": [
    "##### Substituindo gêneros \"-unknown-\" por \"MISSING_LANGUAGE\""
   ]
  },
  {
   "cell_type": "code",
   "execution_count": null,
   "metadata": {
    "collapsed": true
   },
   "outputs": [],
   "source": [
    "def languages(df):\n",
    "    df.language.replace('-unknown-', 'MISSING_LANGUAGE', inplace=True)\n",
    "    return df"
   ]
  },
  {
   "cell_type": "code",
   "execution_count": null,
   "metadata": {
    "collapsed": true
   },
   "outputs": [],
   "source": []
  },
  {
   "cell_type": "markdown",
   "metadata": {},
   "source": [
    "### Tratamento de Gêneros"
   ]
  },
  {
   "cell_type": "markdown",
   "metadata": {},
   "source": [
    "##### Substituindo gêneros \"-unknown-\" por \"MISSING_GENDER\""
   ]
  },
  {
   "cell_type": "code",
   "execution_count": 63,
   "metadata": {},
   "outputs": [],
   "source": [
    "def gender(df):\n",
    "    df.gender.replace('-unknown-', 'MISSING_GENDER', inplace=True)\n",
    "    return df"
   ]
  },
  {
   "cell_type": "code",
   "execution_count": null,
   "metadata": {
    "collapsed": true
   },
   "outputs": [],
   "source": []
  },
  {
   "cell_type": "markdown",
   "metadata": {},
   "source": [
    "### Tratamento de Idades"
   ]
  },
  {
   "cell_type": "markdown",
   "metadata": {},
   "source": [
    "##### Calculando idades preenchidas incorretamente. Onde foi preenchido o ano de nascimento ao invés da idade."
   ]
  },
  {
   "cell_type": "code",
   "execution_count": 68,
   "metadata": {
    "collapsed": true
   },
   "outputs": [],
   "source": [
    "def age_calculate(df):\n",
    "    user_with_year_age_mask = df['age'] > 1000\n",
    "    \n",
    "    # 2015 é o ano que os dados foram extraídos\n",
    "    df.loc[user_with_year_age_mask, 'age'] = 2015 - df.loc[user_with_year_age_mask, 'age']\n",
    "    return df    "
   ]
  },
  {
   "cell_type": "code",
   "execution_count": 14,
   "metadata": {
    "collapsed": true
   },
   "outputs": [],
   "source": [
    "# user_with_year_age_mask = df_all['age'] > 1000"
   ]
  },
  {
   "cell_type": "code",
   "execution_count": 67,
   "metadata": {
    "collapsed": true
   },
   "outputs": [],
   "source": [
    "# 2015 é o ano que os dados foram extraídos\n",
    "# df_all.loc[user_with_year_age_mask, 'age'] = 2015 - df_all.loc[user_with_year_age_mask, 'age']"
   ]
  },
  {
   "cell_type": "markdown",
   "metadata": {},
   "source": [
    "##### Removendo idades superiores a 100 e inferiores a 18 anos"
   ]
  },
  {
   "cell_type": "code",
   "execution_count": 69,
   "metadata": {
    "collapsed": true
   },
   "outputs": [],
   "source": [
    "def age_remove_invalids(df):\n",
    "    df.loc[(df_all['age'] > 100) | (df['age'] < 18), 'age'] = -1\n",
    "    df['age'].fillna(-1, inplace=True)\n",
    "    return df"
   ]
  },
  {
   "cell_type": "code",
   "execution_count": 16,
   "metadata": {
    "collapsed": true
   },
   "outputs": [],
   "source": [
    "# df_all.loc[(df_all['age'] > 100) | (df_all['age'] < 18), 'age'] = -1"
   ]
  },
  {
   "cell_type": "code",
   "execution_count": 17,
   "metadata": {
    "collapsed": true
   },
   "outputs": [],
   "source": [
    "# df_all['age'].fillna(-1, inplace=True)"
   ]
  },
  {
   "cell_type": "markdown",
   "metadata": {},
   "source": [
    "##### Dividindo por faixas de idade"
   ]
  },
  {
   "cell_type": "code",
   "execution_count": 70,
   "metadata": {
    "collapsed": true
   },
   "outputs": [],
   "source": [
    "def age_grouping(df):\n",
    "    bins = [-1, 21, 25, 30, 35, 40, 50, 60, 75, 100]\n",
    "    df['age_group'] = np.digitize(df['age'], bins, right=True)\n",
    "    return df"
   ]
  },
  {
   "cell_type": "code",
   "execution_count": 18,
   "metadata": {
    "collapsed": true
   },
   "outputs": [],
   "source": [
    "# bins = [-1, 21, 25, 30, 35, 40, 50, 60, 75, 100]\n",
    "# df_all['age_group'] = np.digitize(df_all['age'], bins, right=True)"
   ]
  },
  {
   "cell_type": "code",
   "execution_count": null,
   "metadata": {},
   "outputs": [],
   "source": []
  },
  {
   "cell_type": "markdown",
   "metadata": {},
   "source": [
    "### Apagando colunas"
   ]
  },
  {
   "cell_type": "code",
   "execution_count": 72,
   "metadata": {
    "collapsed": true
   },
   "outputs": [],
   "source": [
    "def remove_columns(df):\n",
    "    drop_features = [\n",
    "        'age',\n",
    "        'date_account_created',\n",
    "        'date_first_booking',\n",
    "        'timestamp_first_active',\n",
    "        'affiliate_provider',\n",
    "        'affiliate_channel',\n",
    "        'first_affiliate_tracked',\n",
    "        'first_browser'\n",
    "    ]\n",
    "    df.drop(drop_features, axis=1, inplace=True)\n",
    "    return df"
   ]
  },
  {
   "cell_type": "code",
   "execution_count": 73,
   "metadata": {},
   "outputs": [],
   "source": [
    "# drop_features = [\n",
    "#     'age',\n",
    "#     'date_account_created',\n",
    "#     'date_first_booking',\n",
    "#     'timestamp_first_active',\n",
    "#     'affiliate_provider',\n",
    "#     'affiliate_channel',\n",
    "#     'first_affiliate_tracked',\n",
    "#     'first_browser'\n",
    "# ]\n",
    "\n",
    "# df_all.drop(drop_features, axis=1, inplace=True)\n",
    "# df_all.columns"
   ]
  },
  {
   "cell_type": "code",
   "execution_count": null,
   "metadata": {
    "collapsed": true
   },
   "outputs": [],
   "source": []
  },
  {
   "cell_type": "markdown",
   "metadata": {
    "collapsed": true
   },
   "source": [
    "### Adicionando colunas"
   ]
  },
  {
   "cell_type": "code",
   "execution_count": 74,
   "metadata": {
    "collapsed": true
   },
   "outputs": [],
   "source": [
    "def session_features(df, df_session):\n",
    "    bigger_session = df_session.groupby('user_id')['secs_elapsed'].max()\n",
    "    distinct_sessions = df_session.groupby('user_id')['action'].nunique()\n",
    "    num_devices = df_session.groupby('user_id')['device_type'].nunique()\n",
    "    total_seconds = df_session.groupby('user_id')['secs_elapsed'].sum()\n",
    "    df['total_seconds'] = df['id'].apply(lambda x: total_seconds[x] if x in total_seconds else 0)\n",
    "    df['num_devices'] = df['id'].apply(lambda x: num_devices[x] if x in num_devices else 0)\n",
    "    df['distinct_sessions'] = df['id'].apply(lambda x: distinct_sessions[x] if x in distinct_sessions else 0)\n",
    "    df['bigger_session'] = df['id'].apply(lambda x: bigger_session[x] if x in bigger_session else 0)\n",
    "    return df"
   ]
  },
  {
   "cell_type": "code",
   "execution_count": null,
   "metadata": {
    "collapsed": true
   },
   "outputs": [],
   "source": []
  },
  {
   "cell_type": "code",
   "execution_count": 26,
   "metadata": {},
   "outputs": [
    {
     "data": {
      "text/plain": [
       "Index([u'country_destination', u'first_device_type', u'gender', u'id',\n",
       "       u'language', u'signup_app', u'signup_flow', u'signup_method',\n",
       "       u'age_group'],\n",
       "      dtype='object')"
      ]
     },
     "execution_count": 26,
     "metadata": {},
     "output_type": "execute_result"
    }
   ],
   "source": [
    "df_all.columns"
   ]
  },
  {
   "cell_type": "code",
   "execution_count": 75,
   "metadata": {
    "collapsed": true
   },
   "outputs": [],
   "source": [
    "def one_hot_encoding(df):\n",
    "    categoricals = ['first_device_type', 'gender', 'signup_method', 'signup_flow', 'language', 'signup_app']\n",
    "    df_all = pd.get_dummies(df_all, columns=categoricals, prefix='is')\n",
    "    return df"
   ]
  },
  {
   "cell_type": "code",
   "execution_count": 27,
   "metadata": {
    "collapsed": true
   },
   "outputs": [],
   "source": [
    "# categoricals = ['first_device_type', 'gender', 'signup_method', 'signup_flow', 'language', 'signup_app']\n",
    "# df_all = pd.get_dummies(df_all, columns=categoricals, prefix='is')"
   ]
  },
  {
   "cell_type": "code",
   "execution_count": 77,
   "metadata": {},
   "outputs": [],
   "source": [
    "# df.head()"
   ]
  },
  {
   "cell_type": "code",
   "execution_count": null,
   "metadata": {
    "collapsed": true
   },
   "outputs": [],
   "source": []
  },
  {
   "cell_type": "markdown",
   "metadata": {
    "collapsed": true
   },
   "source": [
    "### BACKUP df_all"
   ]
  },
  {
   "cell_type": "code",
   "execution_count": 29,
   "metadata": {
    "collapsed": true
   },
   "outputs": [],
   "source": [
    "bkp = df_all"
   ]
  },
  {
   "cell_type": "code",
   "execution_count": 30,
   "metadata": {
    "collapsed": true
   },
   "outputs": [],
   "source": [
    "df_all = bkp"
   ]
  },
  {
   "cell_type": "code",
   "execution_count": null,
   "metadata": {
    "collapsed": true
   },
   "outputs": [],
   "source": []
  },
  {
   "cell_type": "code",
   "execution_count": 31,
   "metadata": {
    "collapsed": true
   },
   "outputs": [],
   "source": [
    "df_all.set_index('id', inplace=True)"
   ]
  },
  {
   "cell_type": "code",
   "execution_count": 32,
   "metadata": {
    "collapsed": true
   },
   "outputs": [],
   "source": [
    "train_processed = df_all.loc[df_train['id']]"
   ]
  },
  {
   "cell_type": "code",
   "execution_count": 33,
   "metadata": {
    "collapsed": true
   },
   "outputs": [],
   "source": [
    "test_processed = df_all.loc[df_test['id']]"
   ]
  },
  {
   "cell_type": "code",
   "execution_count": null,
   "metadata": {
    "collapsed": true
   },
   "outputs": [],
   "source": []
  },
  {
   "cell_type": "code",
   "execution_count": 34,
   "metadata": {},
   "outputs": [
    {
     "data": {
      "text/plain": [
       "213451"
      ]
     },
     "execution_count": 34,
     "metadata": {},
     "output_type": "execute_result"
    }
   ],
   "source": [
    "train_processed.shape[0]"
   ]
  },
  {
   "cell_type": "code",
   "execution_count": 35,
   "metadata": {},
   "outputs": [
    {
     "data": {
      "text/plain": [
       "62096"
      ]
     },
     "execution_count": 35,
     "metadata": {},
     "output_type": "execute_result"
    }
   ],
   "source": [
    "test_processed.shape[0]"
   ]
  },
  {
   "cell_type": "code",
   "execution_count": 36,
   "metadata": {},
   "outputs": [
    {
     "data": {
      "text/plain": [
       "Index([u'country_destination', u'age_group', u'is_Android Phone',\n",
       "       u'is_Android Tablet', u'is_Desktop (Other)', u'is_Mac Desktop',\n",
       "       u'is_Other/Unknown', u'is_SmartPhone (Other)', u'is_Windows Desktop',\n",
       "       u'is_iPad', u'is_iPhone', u'is_FEMALE', u'is_MALE',\n",
       "       u'is_MISSING_GENDER', u'is_OTHER', u'is_basic', u'is_facebook',\n",
       "       u'is_google', u'is_weibo', u'is_0', u'is_1', u'is_2', u'is_3', u'is_4',\n",
       "       u'is_5', u'is_6', u'is_8', u'is_10', u'is_12', u'is_14', u'is_15',\n",
       "       u'is_16', u'is_20', u'is_21', u'is_23', u'is_24', u'is_25',\n",
       "       u'is_MISSING_LANGUAGE', u'is_ca', u'is_cs', u'is_da', u'is_de',\n",
       "       u'is_el', u'is_en', u'is_es', u'is_fi', u'is_fr', u'is_hr', u'is_hu',\n",
       "       u'is_id', u'is_is', u'is_it', u'is_ja', u'is_ko', u'is_nl', u'is_no',\n",
       "       u'is_pl', u'is_pt', u'is_ru', u'is_sv', u'is_th', u'is_tr', u'is_zh',\n",
       "       u'is_Android', u'is_Moweb', u'is_Web', u'is_iOS'],\n",
       "      dtype='object')"
      ]
     },
     "execution_count": 36,
     "metadata": {},
     "output_type": "execute_result"
    }
   ],
   "source": [
    "train_processed.columns"
   ]
  },
  {
   "cell_type": "code",
   "execution_count": null,
   "metadata": {
    "collapsed": true
   },
   "outputs": [],
   "source": []
  },
  {
   "cell_type": "code",
   "execution_count": 37,
   "metadata": {
    "collapsed": true
   },
   "outputs": [],
   "source": [
    "y = train_processed['country_destination']\n",
    "train_processed.drop(['country_destination'], axis=1, inplace=True)\n",
    "X = train_processed.values"
   ]
  },
  {
   "cell_type": "markdown",
   "metadata": {},
   "source": [
    "## Machine Learning"
   ]
  },
  {
   "cell_type": "markdown",
   "metadata": {},
   "source": [
    "# TESTAR XGBOOST COM CADA TRATAMENTO"
   ]
  },
  {
   "cell_type": "code",
   "execution_count": null,
   "metadata": {
    "collapsed": true
   },
   "outputs": [],
   "source": []
  },
  {
   "cell_type": "markdown",
   "metadata": {},
   "source": [
    "##### NDCG Scorer\n",
    "A custom NDCG scorer from kaggle scripts will be used for training."
   ]
  },
  {
   "cell_type": "code",
   "execution_count": 38,
   "metadata": {
    "collapsed": true
   },
   "outputs": [],
   "source": [
    "# def ndcg5_score(preds, dtrain):\n",
    "#     labels = dtrain.get_label()\n",
    "#     top = []\n",
    "\n",
    "#     for i in range(preds.shape[0]):\n",
    "#         top.append(np.argsort(preds[i])[::-1][:5])\n",
    "\n",
    "#     mat = np.reshape(np.repeat(labels,np.shape(top)[1]) == np.array(top).ravel(),np.array(top).shape).astype(int)\n",
    "#     score = np.mean(np.sum(mat/np.log2(np.arange(2, mat.shape[1] + 2)),axis = 1))\n",
    "#     return 'ndcg5', score"
   ]
  },
  {
   "cell_type": "code",
   "execution_count": 39,
   "metadata": {
    "collapsed": true
   },
   "outputs": [],
   "source": [
    "from sklearn.preprocessing import LabelBinarizer\n",
    "from sklearn.metrics import make_scorer\n",
    "\n",
    "def dcg_score(y_true, y_score, k=5):\n",
    "    \"\"\"Discounted cumulative gain (DCG) at rank K.\n",
    "    \n",
    "    Parameters\n",
    "    ----------\n",
    "    y_true : array, shape = [n_samples]\n",
    "        Ground truth (true relevance labels).\n",
    "    y_score : array, shape = [n_samples, n_classes]\n",
    "        Predicted scores.\n",
    "    k : int\n",
    "        Rank.\n",
    "        \n",
    "    Returns\n",
    "    -------\n",
    "    score : float\n",
    "    \"\"\"\n",
    "    order = np.argsort(y_score)[::-1]\n",
    "    y_true = np.take(y_true, order[:k])\n",
    "\n",
    "    gain = 2 ** y_true - 1\n",
    "\n",
    "    discounts = np.log2(np.arange(len(y_true)) + 2)\n",
    "    return np.sum(gain / discounts)\n",
    "\n",
    "def ndcg_score(ground_truth, predictions, k=5):\n",
    "    \"\"\"Normalized discounted cumulative gain (NDCG) at rank K.\n",
    "\n",
    "    Normalized Discounted Cumulative Gain (NDCG) measures the performance of a\n",
    "    recommendation system based on the graded relevance of the recommended\n",
    "    entities. It varies from 0.0 to 1.0, with 1.0 representing the ideal\n",
    "    ranking of the entities.\n",
    "\n",
    "    Parameters\n",
    "    ----------\n",
    "    ground_truth : array, shape = [n_samples]\n",
    "        Ground truth (true labels represended as integers).\n",
    "    predictions : array, shape = [n_samples, n_classes]\n",
    "        Predicted probabilities.\n",
    "    k : int\n",
    "        Rank.\n",
    "\n",
    "    Returns\n",
    "    -------\n",
    "    score : float\n",
    "\n",
    "    Example\n",
    "    -------\n",
    "    >>> ground_truth = [1, 0, 2]\n",
    "    >>> predictions = [[0.15, 0.55, 0.2], [0.7, 0.2, 0.1], [0.06, 0.04, 0.9]]\n",
    "    >>> score = ndcg_score(ground_truth, predictions, k=2)\n",
    "    1.0\n",
    "    >>> predictions = [[0.9, 0.5, 0.8], [0.7, 0.2, 0.1], [0.06, 0.04, 0.9]]\n",
    "    >>> score = ndcg_score(ground_truth, predictions, k=2)\n",
    "    0.6666666666\n",
    "    \"\"\"\n",
    "    lb = LabelBinarizer()\n",
    "    #lb.fit(range(len(predictions) + 1))  ## original\n",
    "    #lb.fit(range(predictions.shape[1] + 1))\n",
    "    #T = lb.transform(ground_truth)\n",
    "    \n",
    "    T = lb.fit_transform(ground_truth) \n",
    "\n",
    "    scores = []\n",
    "\n",
    "    # Iterate over each y_true and compute the DCG score\n",
    "    for y_true, y_score in zip(T, predictions):\n",
    "        actual = dcg_score(y_true, y_score, k)\n",
    "        best = dcg_score(y_true, y_true, k)\n",
    "        score = float(actual) / float(best)\n",
    "        scores.append(score)\n",
    "\n",
    "    return np.mean(scores)\n",
    "\n",
    "# NDCG Scorer function\n",
    "ndcg_scorer = make_scorer(ndcg_score, needs_proba=True, k=5)"
   ]
  },
  {
   "cell_type": "code",
   "execution_count": null,
   "metadata": {
    "collapsed": true
   },
   "outputs": [],
   "source": []
  },
  {
   "cell_type": "code",
   "execution_count": 40,
   "metadata": {
    "collapsed": true
   },
   "outputs": [],
   "source": [
    "X_train, X_test, y_train, y_test = train_test_split(X, y, test_size=.02, random_state=42)"
   ]
  },
  {
   "cell_type": "code",
   "execution_count": null,
   "metadata": {
    "collapsed": true
   },
   "outputs": [],
   "source": []
  },
  {
   "cell_type": "markdown",
   "metadata": {},
   "source": [
    "### Random Forest Classifier"
   ]
  },
  {
   "cell_type": "code",
   "execution_count": 41,
   "metadata": {
    "collapsed": true
   },
   "outputs": [],
   "source": [
    "from sklearn.ensemble import RandomForestClassifier\n",
    "from sklearn import metrics"
   ]
  },
  {
   "cell_type": "code",
   "execution_count": 42,
   "metadata": {
    "collapsed": true
   },
   "outputs": [],
   "source": [
    "clf = RandomForestClassifier(n_estimators=25, random_state=101)"
   ]
  },
  {
   "cell_type": "code",
   "execution_count": 43,
   "metadata": {},
   "outputs": [],
   "source": [
    "parameters = {'min_samples_split': [2, 20],\n",
    "              'max_depth': [6, 12]\n",
    "             }\n",
    "reg = grid_search.GridSearchCV(clf, parameters, scoring=ndcg_scorer, cv=3)"
   ]
  },
  {
   "cell_type": "code",
   "execution_count": 44,
   "metadata": {
    "collapsed": true
   },
   "outputs": [],
   "source": [
    "# from sklearn.preprocessing import LabelEncoder\n",
    "# le = LabelEncoder()\n",
    "# ye = le.fit_transform(y)"
   ]
  },
  {
   "cell_type": "code",
   "execution_count": 45,
   "metadata": {},
   "outputs": [
    {
     "data": {
      "text/plain": [
       "GridSearchCV(cv=3, error_score='raise',\n",
       "       estimator=RandomForestClassifier(bootstrap=True, class_weight=None, criterion='gini',\n",
       "            max_depth=None, max_features='auto', max_leaf_nodes=None,\n",
       "            min_impurity_decrease=0.0, min_impurity_split=None,\n",
       "            min_samples_leaf=1, min_samples_split=2,\n",
       "            min_weight_fraction_leaf=0.0, n_estimators=25, n_jobs=1,\n",
       "            oob_score=False, random_state=101, verbose=0, warm_start=False),\n",
       "       fit_params={}, iid=True, n_jobs=1,\n",
       "       param_grid={'min_samples_split': [2, 20], 'max_depth': [6, 12]},\n",
       "       pre_dispatch='2*n_jobs', refit=True,\n",
       "       scoring=make_scorer(ndcg_score, needs_proba=True, k=5), verbose=0)"
      ]
     },
     "execution_count": 45,
     "metadata": {},
     "output_type": "execute_result"
    }
   ],
   "source": [
    "reg.fit(X, y)"
   ]
  },
  {
   "cell_type": "code",
   "execution_count": 46,
   "metadata": {},
   "outputs": [
    {
     "data": {
      "text/plain": [
       "RandomForestClassifier(bootstrap=True, class_weight=None, criterion='gini',\n",
       "            max_depth=12, max_features='auto', max_leaf_nodes=None,\n",
       "            min_impurity_decrease=0.0, min_impurity_split=None,\n",
       "            min_samples_leaf=1, min_samples_split=20,\n",
       "            min_weight_fraction_leaf=0.0, n_estimators=25, n_jobs=1,\n",
       "            oob_score=False, random_state=101, verbose=0, warm_start=False)"
      ]
     },
     "execution_count": 46,
     "metadata": {},
     "output_type": "execute_result"
    }
   ],
   "source": [
    "est = reg.best_estimator_\n",
    "est"
   ]
  },
  {
   "cell_type": "code",
   "execution_count": 47,
   "metadata": {},
   "outputs": [
    {
     "data": {
      "text/plain": [
       "[mean: 0.80905, std: 0.00117, params: {'min_samples_split': 2, 'max_depth': 6},\n",
       " mean: 0.81155, std: 0.00265, params: {'min_samples_split': 20, 'max_depth': 6},\n",
       " mean: 0.81942, std: 0.00665, params: {'min_samples_split': 2, 'max_depth': 12},\n",
       " mean: 0.82149, std: 0.00589, params: {'min_samples_split': 20, 'max_depth': 12}]"
      ]
     },
     "execution_count": 47,
     "metadata": {},
     "output_type": "execute_result"
    }
   ],
   "source": [
    "reg.grid_scores_"
   ]
  },
  {
   "cell_type": "code",
   "execution_count": 48,
   "metadata": {},
   "outputs": [
    {
     "name": "stdout",
     "output_type": "stream",
     "text": [
      "Random Forest:\n",
      "             precision    recall  f1-score   support\n",
      "\n",
      "         AU       0.00      0.00      0.00       539\n",
      "         CA       0.00      0.00      0.00      1428\n",
      "         DE       0.00      0.00      0.00      1061\n",
      "         ES       0.00      0.00      0.00      2249\n",
      "         FR       0.00      0.00      0.00      5023\n",
      "         GB       0.00      0.00      0.00      2324\n",
      "         IT       0.00      0.00      0.00      2835\n",
      "        NDF       0.70      0.84      0.76    124543\n",
      "         NL       0.00      0.00      0.00       762\n",
      "         PT       0.00      0.00      0.00       217\n",
      "         US       0.49      0.49      0.49     62376\n",
      "      other       1.00      0.00      0.00     10094\n",
      "\n",
      "avg / total       0.60      0.63      0.59    213451\n",
      "\n"
     ]
    },
    {
     "name": "stderr",
     "output_type": "stream",
     "text": [
      "/home/pedro/anaconda2/lib/python2.7/site-packages/sklearn/metrics/classification.py:1135: UndefinedMetricWarning: Precision and F-score are ill-defined and being set to 0.0 in labels with no predicted samples.\n",
      "  'precision', 'predicted', average, warn_for)\n"
     ]
    }
   ],
   "source": [
    "print 'Random Forest:\\n', metrics.classification_report(y, est.predict(X))"
   ]
  },
  {
   "cell_type": "markdown",
   "metadata": {},
   "source": [
    "### XGBOOST"
   ]
  },
  {
   "cell_type": "markdown",
   "metadata": {
    "collapsed": true
   },
   "source": [
    "\n",
    "Train XGBoost classifier\n",
    "XGBoost is an optimized distributed gradient boosting library designed to be highly efficient, flexible and portable. It implements machine learning algorithms under the Gradient Boosting framework, which produces an ensemble of weak decision tree learners via additive training (boosting).\n",
    "\n",
    "The advantages of Gradient Tree Boosting are:\n",
    "\n",
    "Natural handling of data of mixed type (= heterogeneous features)\n",
    "Predictive power\n",
    "Robustness to outliers in output space (via robust loss functions)\n",
    "XGBoost is 20x faster than scikit-learn's Gradient Boosting Classifier and was used in the winning solution of kaggle's Higgs competition.\n",
    "\n",
    "We will use the sklearn interface for XGBoost to train our model.\n",
    "\n",
    "https://github.com/kcbighuge/p5-capstone/blob/master/notebooks/p5-capstone-airbnb.ipynb"
   ]
  },
  {
   "cell_type": "code",
   "execution_count": 51,
   "metadata": {},
   "outputs": [],
   "source": [
    "est = XGBClassifier(max_depth=6, learning_rate=0.25, n_estimators=50, gamma=0,\n",
    "                    objective='multi:softprob', subsample=0.8, colsample_bytree=0.7, seed=101)"
   ]
  },
  {
   "cell_type": "code",
   "execution_count": 53,
   "metadata": {},
   "outputs": [
    {
     "name": "stdout",
     "output_type": "stream",
     "text": [
      "[0]\tvalidation_0-merror:0.384299\tvalidation_1-merror:0.387588\n",
      "Multiple eval metrics have been passed: 'validation_1-merror' will be used for early stopping.\n",
      "\n",
      "Will train until validation_1-merror hasn't improved in 20 rounds.\n",
      "[1]\tvalidation_0-merror:0.368614\tvalidation_1-merror:0.367213\n",
      "[2]\tvalidation_0-merror:0.369675\tvalidation_1-merror:0.369087\n",
      "[3]\tvalidation_0-merror:0.367988\tvalidation_1-merror:0.366979\n",
      "[4]\tvalidation_0-merror:0.367447\tvalidation_1-merror:0.367447\n",
      "[5]\tvalidation_0-merror:0.366979\tvalidation_1-merror:0.367682\n",
      "[6]\tvalidation_0-merror:0.36674\tvalidation_1-merror:0.367447\n",
      "[7]\tvalidation_0-merror:0.366592\tvalidation_1-merror:0.366276\n",
      "[8]\tvalidation_0-merror:0.366539\tvalidation_1-merror:0.368618\n",
      "[9]\tvalidation_0-merror:0.366348\tvalidation_1-merror:0.368384\n",
      "[10]\tvalidation_0-merror:0.366262\tvalidation_1-merror:0.368618\n",
      "[11]\tvalidation_0-merror:0.366066\tvalidation_1-merror:0.367916\n",
      "[12]\tvalidation_0-merror:0.366013\tvalidation_1-merror:0.369321\n",
      "[13]\tvalidation_0-merror:0.365722\tvalidation_1-merror:0.367916\n",
      "[14]\tvalidation_0-merror:0.365731\tvalidation_1-merror:0.367682\n",
      "[15]\tvalidation_0-merror:0.365521\tvalidation_1-merror:0.365105\n",
      "[16]\tvalidation_0-merror:0.36554\tvalidation_1-merror:0.366979\n",
      "[17]\tvalidation_0-merror:0.365492\tvalidation_1-merror:0.366979\n",
      "[18]\tvalidation_0-merror:0.365392\tvalidation_1-merror:0.367213\n",
      "[19]\tvalidation_0-merror:0.365177\tvalidation_1-merror:0.367447\n",
      "[20]\tvalidation_0-merror:0.365186\tvalidation_1-merror:0.367447\n",
      "[21]\tvalidation_0-merror:0.365047\tvalidation_1-merror:0.366979\n",
      "[22]\tvalidation_0-merror:0.364976\tvalidation_1-merror:0.366979\n",
      "[23]\tvalidation_0-merror:0.364957\tvalidation_1-merror:0.366745\n",
      "[24]\tvalidation_0-merror:0.36489\tvalidation_1-merror:0.366979\n",
      "[25]\tvalidation_0-merror:0.364871\tvalidation_1-merror:0.367213\n",
      "[26]\tvalidation_0-merror:0.364813\tvalidation_1-merror:0.366511\n",
      "[27]\tvalidation_0-merror:0.364832\tvalidation_1-merror:0.366745\n",
      "[28]\tvalidation_0-merror:0.364899\tvalidation_1-merror:0.366511\n",
      "[29]\tvalidation_0-merror:0.364899\tvalidation_1-merror:0.367916\n",
      "[30]\tvalidation_0-merror:0.364899\tvalidation_1-merror:0.367447\n",
      "[31]\tvalidation_0-merror:0.364832\tvalidation_1-merror:0.366511\n",
      "[32]\tvalidation_0-merror:0.364713\tvalidation_1-merror:0.366979\n",
      "[33]\tvalidation_0-merror:0.364718\tvalidation_1-merror:0.366979\n",
      "[34]\tvalidation_0-merror:0.364727\tvalidation_1-merror:0.366276\n",
      "[35]\tvalidation_0-merror:0.364703\tvalidation_1-merror:0.366042\n",
      "Stopping. Best iteration:\n",
      "[15]\tvalidation_0-merror:0.365521\tvalidation_1-merror:0.365105\n",
      "\n"
     ]
    },
    {
     "data": {
      "text/plain": [
       "XGBClassifier(base_score=0.5, booster='gbtree', colsample_bylevel=1,\n",
       "       colsample_bytree=0.7, gamma=0, learning_rate=0.25, max_delta_step=0,\n",
       "       max_depth=6, min_child_weight=1, missing=None, n_estimators=50,\n",
       "       n_jobs=1, nthread=None, objective='multi:softprob', random_state=0,\n",
       "       reg_alpha=0, reg_lambda=1, scale_pos_weight=1, seed=101,\n",
       "       silent=True, subsample=0.8)"
      ]
     },
     "execution_count": 53,
     "metadata": {},
     "output_type": "execute_result"
    }
   ],
   "source": [
    "my_eval_set = [(X_train,y_train), (X_test,y_test)]\n",
    "est.fit(X_train, y_train, eval_set=my_eval_set, early_stopping_rounds=20, eval_metric='merror')"
   ]
  },
  {
   "cell_type": "code",
   "execution_count": 55,
   "metadata": {},
   "outputs": [
    {
     "data": {
      "text/plain": [
       "0.82458244940187553"
      ]
     },
     "execution_count": 55,
     "metadata": {},
     "output_type": "execute_result"
    }
   ],
   "source": [
    "ndcg_score(y_test, est.predict_proba(X_test))"
   ]
  },
  {
   "cell_type": "code",
   "execution_count": 57,
   "metadata": {},
   "outputs": [],
   "source": [
    "# look at how well the model predicts the training data\n",
    "# predict class probabilities\n",
    "ypred_prob = est.predict_proba(X)\n",
    "# predict classes\n",
    "ypred = np.argmax(ypred_prob, axis=1)\n",
    "print 'XGBoost:\\n', metrics.classification_report(y, ypred)"
   ]
  },
  {
   "cell_type": "code",
   "execution_count": null,
   "metadata": {
    "collapsed": true
   },
   "outputs": [],
   "source": []
  },
  {
   "cell_type": "code",
   "execution_count": null,
   "metadata": {
    "collapsed": true
   },
   "outputs": [],
   "source": []
  },
  {
   "cell_type": "markdown",
   "metadata": {},
   "source": [
    "## Conclusão e resultados"
   ]
  },
  {
   "cell_type": "code",
   "execution_count": null,
   "metadata": {
    "collapsed": true
   },
   "outputs": [],
   "source": []
  },
  {
   "cell_type": "code",
   "execution_count": null,
   "metadata": {
    "collapsed": true
   },
   "outputs": [],
   "source": []
  },
  {
   "cell_type": "code",
   "execution_count": null,
   "metadata": {
    "collapsed": true
   },
   "outputs": [],
   "source": []
  },
  {
   "cell_type": "code",
   "execution_count": null,
   "metadata": {
    "collapsed": true
   },
   "outputs": [],
   "source": []
  }
 ],
 "metadata": {
  "kernelspec": {
   "display_name": "Python 2",
   "language": "python",
   "name": "python2"
  },
  "language_info": {
   "codemirror_mode": {
    "name": "ipython",
    "version": 2
   },
   "file_extension": ".py",
   "mimetype": "text/x-python",
   "name": "python",
   "nbconvert_exporter": "python",
   "pygments_lexer": "ipython2",
   "version": "2.7.14"
  }
 },
 "nbformat": 4,
 "nbformat_minor": 2
}
